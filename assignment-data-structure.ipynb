{
 "cells": [
  {
   "cell_type": "markdown",
   "id": "4fefec74-5ae9-467f-8421-ad269ce4a387",
   "metadata": {},
   "source": [
    "# Assignment (Data Types and Structures)"
   ]
  },
  {
   "cell_type": "markdown",
   "id": "6309a585-f749-4d3b-96ae-77edffbfc77a",
   "metadata": {},
   "source": [
    "## Data Types and Structures Questions"
   ]
  },
  {
   "cell_type": "code",
   "execution_count": 9,
   "id": "f20feed4-22c7-4e91-8091-a3a7bfb9e0d0",
   "metadata": {},
   "outputs": [
    {
     "data": {
      "text/plain": [
       "'\\n1 What are data structures, and why are they important.\\n2  Explain the difference between mutable and immutable data types with examples.\\n3 What are the main differences between lists and tuples in Python.\\n4 Describe how dictionaries store data.\\n5 Why might you use a set instead of a list in Python.\\n6 What is a string in Python, and how is it different from a list.\\n7 How do tuples ensure data integrity in Python.\\n8 What is a hash table, and how does it relate to dictionaries in Python.\\n9 Can lists contain different data types in Python.\\n10 Explain why strings are immutable in Python.\\n11 What advantages do dictionaries offer over lists for certain tasks.\\n12 Describe a scenario where using a tuple would be preferable over a list.\\n13 How do sets handle duplicate values in Python.\\n14 How does the “in” keyword work differently for lists and dictionaries.\\n15 Can you modify the elements of a tuple? Explain why or why not.\\n16 What is a nested dictionary, and give an example of its use case.\\n17 Describe the time complexity of accessing elements in a dictionary.\\n18 In what situations are lists preferred over dictionaries.\\n19 Why are dictionaries considered unordered, and how does that affect data retrieval.\\n20 Explain the difference between a list and a dictionary in terms of data retrieval.\\n\\n'"
      ]
     },
     "execution_count": 9,
     "metadata": {},
     "output_type": "execute_result"
    }
   ],
   "source": [
    "'''\n",
    "1 What are data structures, and why are they important.\n",
    "2  Explain the difference between mutable and immutable data types with examples.\n",
    "3 What are the main differences between lists and tuples in Python.\n",
    "4 Describe how dictionaries store data.\n",
    "5 Why might you use a set instead of a list in Python.\n",
    "6 What is a string in Python, and how is it different from a list.\n",
    "7 How do tuples ensure data integrity in Python.\n",
    "8 What is a hash table, and how does it relate to dictionaries in Python.\n",
    "9 Can lists contain different data types in Python.\n",
    "10 Explain why strings are immutable in Python.\n",
    "11 What advantages do dictionaries offer over lists for certain tasks.\n",
    "12 Describe a scenario where using a tuple would be preferable over a list.\n",
    "13 How do sets handle duplicate values in Python.\n",
    "14 How does the “in” keyword work differently for lists and dictionaries.\n",
    "15 Can you modify the elements of a tuple? Explain why or why not.\n",
    "16 What is a nested dictionary, and give an example of its use case.\n",
    "17 Describe the time complexity of accessing elements in a dictionary.\n",
    "18 In what situations are lists preferred over dictionaries.\n",
    "19 Why are dictionaries considered unordered, and how does that affect data retrieval.\n",
    "20 Explain the difference between a list and a dictionary in terms of data retrieval.\n",
    "\n",
    "'''"
   ]
  },
  {
   "cell_type": "markdown",
   "id": "662608f1-78e3-497a-99f0-8bc874983c28",
   "metadata": {},
   "source": [
    "## Answer"
   ]
  },
  {
   "cell_type": "code",
   "execution_count": 12,
   "id": "af72aa40-7274-4988-8184-795af145f076",
   "metadata": {},
   "outputs": [
    {
     "data": {
      "text/plain": [
       "'\\n1) Data structures organize and store data efficiently, enabling optimal access and modification.\\n\\n2)  Mutable: Can be changed (e.g., list).\\n    Immutable: Cannot be changed (e.g., tuple, string).\\n\\n3) Lists are mutable, tuples are immutable and Lists use more memory; tuples are faster.\\n\\n4) As key-value pairs using a hash table.\\n\\n5) To store unique items and for faster membership checks.\\n\\n6) A string is an immutable sequence of characters; a list is a mutable sequence of elements.\\n\\n7) Their immutability prevents accidental changes.\\n\\n8) A hash table stores key-value pairs; Python dictionaries use it for fast lookups.\\n\\n9) Yes, Python lists can hold mixed data types.\\n\\n10) For memory efficiency and security\\n\\n11) Faster lookups using keys; better for mapping relationships.\\n\\n12) When data should not change, like (x, y) coordinates.\\n\\n13) Automatically remove duplicates.\\n\\n14) List: Checks for presence of a value.\\n    Dict: Checks for presence of a key.\\n\\n15) No; tuples are immutable.\\n\\n16) A dictionary within another dictionary.\\n    Example: {\"student\": {\"name\": \"Ana\", \"age\": 20}}\\n\\n17) O(1)\\n\\n18) When order matters or items don’t need unique keys.\\n\\n19) Keys weren’t stored in insertion order; now they are ordered but not sorted.\\n\\n20) List: Retrieve by index.\\n    Dictionary: Retrieve by key (faster).\\n'"
      ]
     },
     "execution_count": 12,
     "metadata": {},
     "output_type": "execute_result"
    }
   ],
   "source": [
    "'''\n",
    "1) Data structures organize and store data efficiently, enabling optimal access and modification.\n",
    "\n",
    "2)  Mutable: Can be changed (e.g., list).\n",
    "    Immutable: Cannot be changed (e.g., tuple, string).\n",
    "\n",
    "3) Lists are mutable, tuples are immutable and Lists use more memory; tuples are faster.\n",
    "\n",
    "4) As key-value pairs using a hash table.\n",
    "\n",
    "5) To store unique items and for faster membership checks.\n",
    "\n",
    "6) A string is an immutable sequence of characters; a list is a mutable sequence of elements.\n",
    "\n",
    "7) Their immutability prevents accidental changes.\n",
    "\n",
    "8) A hash table stores key-value pairs; Python dictionaries use it for fast lookups.\n",
    "\n",
    "9) Yes, Python lists can hold mixed data types.\n",
    "\n",
    "10) For memory efficiency and security\n",
    "\n",
    "11) Faster lookups using keys; better for mapping relationships.\n",
    "\n",
    "12) When data should not change, like (x, y) coordinates.\n",
    "\n",
    "13) Automatically remove duplicates.\n",
    "\n",
    "14) List: Checks for presence of a value.\n",
    "    Dict: Checks for presence of a key.\n",
    "\n",
    "15) No; tuples are immutable.\n",
    "\n",
    "16) A dictionary within another dictionary.\n",
    "    Example: {\"student\": {\"name\": \"Ana\", \"age\": 20}}\n",
    "\n",
    "17) O(1)\n",
    "\n",
    "18) When order matters or items don’t need unique keys.\n",
    "\n",
    "19) Keys weren’t stored in insertion order; now they are ordered but not sorted.\n",
    "\n",
    "20) List: Retrieve by index.\n",
    "    Dictionary: Retrieve by key (faster).\n",
    "'''"
   ]
  },
  {
   "cell_type": "markdown",
   "id": "c9cbd98f-c1b7-4bf9-95a1-0c27f5590cad",
   "metadata": {},
   "source": [
    "# Practical Questions"
   ]
  },
  {
   "cell_type": "code",
   "execution_count": 35,
   "id": "283aba8b-1925-48a0-9545-7d10afb8c4ca",
   "metadata": {},
   "outputs": [
    {
     "name": "stdout",
     "output_type": "stream",
     "text": [
      "John Doe\n"
     ]
    }
   ],
   "source": [
    "# 1 Write a code to create a string with your name and print it.\n",
    "\n",
    "name = \"John Doe\"\n",
    "print(name)\n"
   ]
  },
  {
   "cell_type": "code",
   "execution_count": 37,
   "id": "24db57af-df44-48f7-af1f-7772c39fd573",
   "metadata": {},
   "outputs": [
    {
     "name": "stdout",
     "output_type": "stream",
     "text": [
      "11\n"
     ]
    }
   ],
   "source": [
    "# 2 Write a code to find the length of the string \"Hello World\"\n",
    "\n",
    "text = \"Hello World\"\n",
    "print(len(text))"
   ]
  },
  {
   "cell_type": "code",
   "execution_count": 39,
   "id": "d576421a-3776-4fb5-a6df-a3e323d10623",
   "metadata": {},
   "outputs": [
    {
     "name": "stdout",
     "output_type": "stream",
     "text": [
      "Pyt\n"
     ]
    }
   ],
   "source": [
    "# 3  Write a code to slice the first 3 characters from the string \"Python Programming\"\n",
    "text = \"Python Programming\"\n",
    "print(text[:3])"
   ]
  },
  {
   "cell_type": "code",
   "execution_count": 41,
   "id": "3481258c-3903-4e86-a87e-da3b01fee0d8",
   "metadata": {},
   "outputs": [
    {
     "name": "stdout",
     "output_type": "stream",
     "text": [
      "HELLO\n"
     ]
    }
   ],
   "source": [
    "# 4 Write a code to convert the string \"hello\" to uppercase\n",
    "\n",
    "text = \"hello\"\n",
    "print(text.upper())"
   ]
  },
  {
   "cell_type": "code",
   "execution_count": 43,
   "id": "9e2e769d-ebc7-4e08-b082-1822dce54aab",
   "metadata": {},
   "outputs": [
    {
     "name": "stdout",
     "output_type": "stream",
     "text": [
      "I like orange\n"
     ]
    }
   ],
   "source": [
    "#5 Write a code to replace the word \"apple\" with \"orange\" in the string \"I like apple\"\n",
    "\n",
    "text = \"I like apple\"\n",
    "new_text = text.replace(\"apple\", \"orange\")\n",
    "print(new_text)"
   ]
  },
  {
   "cell_type": "code",
   "execution_count": 45,
   "id": "caec47bd-e5c7-4b20-bb6f-05d98d51bf39",
   "metadata": {},
   "outputs": [
    {
     "name": "stdout",
     "output_type": "stream",
     "text": [
      "[1, 2, 3, 4, 5]\n"
     ]
    }
   ],
   "source": [
    "# 6 Write a code to create a list with numbers 1 to 5 and print it\n",
    "\n",
    "numbers = [1, 2, 3, 4, 5]\n",
    "print(numbers)"
   ]
  },
  {
   "cell_type": "code",
   "execution_count": 47,
   "id": "41cb7429-9952-4c9d-a331-1823693c9918",
   "metadata": {},
   "outputs": [
    {
     "name": "stdout",
     "output_type": "stream",
     "text": [
      "[1, 2, 3, 4, 10]\n"
     ]
    }
   ],
   "source": [
    "# 7  Write a code to append the number 10 to the list [1, 2, 3, 4]\n",
    "\n",
    "numbers = [1, 2, 3, 4]\n",
    "numbers.append(10)\n",
    "print(numbers)"
   ]
  },
  {
   "cell_type": "code",
   "execution_count": 49,
   "id": "bb7378a8-140d-482d-9361-52cac1fae641",
   "metadata": {},
   "outputs": [
    {
     "name": "stdout",
     "output_type": "stream",
     "text": [
      "[1, 2, 4, 5]\n"
     ]
    }
   ],
   "source": [
    "#8  Write a code to remove the number 3 from the list [1, 2, 3, 4, 5]\n",
    "\n",
    "numbers = [1, 2, 3, 4, 5]\n",
    "numbers.remove(3)\n",
    "print(numbers)"
   ]
  },
  {
   "cell_type": "code",
   "execution_count": 51,
   "id": "55c05511-b1b2-42d1-8ee3-40a5cabc3866",
   "metadata": {},
   "outputs": [
    {
     "name": "stdout",
     "output_type": "stream",
     "text": [
      "b\n"
     ]
    }
   ],
   "source": [
    "#9 Write a code to access the second element in the list ['a', 'b', 'c', 'd']\n",
    "\n",
    "letters = ['a', 'b', 'c', 'd']\n",
    "print(letters[1]) "
   ]
  },
  {
   "cell_type": "code",
   "execution_count": 53,
   "id": "07a63b09-3217-4ae3-aca0-e140e12bb276",
   "metadata": {},
   "outputs": [
    {
     "name": "stdout",
     "output_type": "stream",
     "text": [
      "[50, 40, 30, 20, 10]\n"
     ]
    }
   ],
   "source": [
    "#10 Write a code to reverse the list [10, 20, 30, 40, 50]\n",
    "\n",
    "numbers = [10, 20, 30, 40, 50]\n",
    "numbers.reverse()\n",
    "print(numbers)"
   ]
  },
  {
   "cell_type": "code",
   "execution_count": 77,
   "id": "92da06f0-2966-4c44-8ade-7072d5d72ae4",
   "metadata": {},
   "outputs": [
    {
     "data": {
      "text/plain": [
       "'\\n11. Write a code to create a tuple with the elements 100, 200, 300 and print it.\\n\\n12. Write a code to access the second-to-last element of the tuple (\\'red\\', \\'green\\', \\'blue\\', \\'yellow\\').\\n\\n13. Write a code to find the minimum number in the tuple (10, 20, 5, 15).\\n\\n14. Write a code to find the index of the element \"cat\" in the tuple (\\'dog\\', \\'cat\\', \\'rabbit\\').\\n\\n15. Write a code to create a tuple containing three different fruits and check if \"kiwi\" is in it.\\n\\n16. Write a code to create a set with the elements \\'a\\', \\'b\\', \\'c\\' and print it.\\n\\n17. Write a code to clear all elements from the set {1, 2, 3, 4, 5}.\\n\\n18. Write a code to remove the element 4 from the set {1, 2, 3, 4}.\\n\\n19. Write a code to find the union of two sets {1, 2, 3} and {3, 4, 5}.\\n\\n20. Write a code to find the intersection of two sets {1, 2, 3} and {2, 3, 4}. \\n\\n'"
      ]
     },
     "execution_count": 77,
     "metadata": {},
     "output_type": "execute_result"
    }
   ],
   "source": [
    "'''\n",
    "11. Write a code to create a tuple with the elements 100, 200, 300 and print it.\n",
    "\n",
    "12. Write a code to access the second-to-last element of the tuple ('red', 'green', 'blue', 'yellow').\n",
    "\n",
    "13. Write a code to find the minimum number in the tuple (10, 20, 5, 15).\n",
    "\n",
    "14. Write a code to find the index of the element \"cat\" in the tuple ('dog', 'cat', 'rabbit').\n",
    "\n",
    "15. Write a code to create a tuple containing three different fruits and check if \"kiwi\" is in it.\n",
    "\n",
    "16. Write a code to create a set with the elements 'a', 'b', 'c' and print it.\n",
    "\n",
    "17. Write a code to clear all elements from the set {1, 2, 3, 4, 5}.\n",
    "\n",
    "18. Write a code to remove the element 4 from the set {1, 2, 3, 4}.\n",
    "\n",
    "19. Write a code to find the union of two sets {1, 2, 3} and {3, 4, 5}.\n",
    "\n",
    "20. Write a code to find the intersection of two sets {1, 2, 3} and {2, 3, 4}. \n",
    "\n",
    "'''"
   ]
  },
  {
   "cell_type": "code",
   "execution_count": 55,
   "id": "2b0033ab-b91f-4e58-96ef-54e1fee42789",
   "metadata": {},
   "outputs": [
    {
     "name": "stdout",
     "output_type": "stream",
     "text": [
      "(100, 200, 300)\n"
     ]
    }
   ],
   "source": [
    "# 11 \n",
    "\n",
    "my_tuple = (100, 200, 300)\n",
    "print(my_tuple)"
   ]
  },
  {
   "cell_type": "code",
   "execution_count": 57,
   "id": "0feeb7e1-cd3a-40ee-aa05-987bbaa56cc5",
   "metadata": {},
   "outputs": [
    {
     "name": "stdout",
     "output_type": "stream",
     "text": [
      "blue\n"
     ]
    }
   ],
   "source": [
    "#12 \n",
    "colors = ('red', 'green', 'blue', 'yellow')\n",
    "print(colors[-2])"
   ]
  },
  {
   "cell_type": "code",
   "execution_count": 59,
   "id": "34095b0f-1e9e-4e71-95ee-3790d2efea0c",
   "metadata": {},
   "outputs": [
    {
     "name": "stdout",
     "output_type": "stream",
     "text": [
      "5\n"
     ]
    }
   ],
   "source": [
    "#13\n",
    "numbers = (10, 20, 5, 15)\n",
    "print(min(numbers))"
   ]
  },
  {
   "cell_type": "code",
   "execution_count": 61,
   "id": "3fc73a38-8578-492b-b618-5658cc6ef3e7",
   "metadata": {},
   "outputs": [
    {
     "name": "stdout",
     "output_type": "stream",
     "text": [
      "1\n"
     ]
    }
   ],
   "source": [
    "#14 \n",
    "animals = ('dog', 'cat', 'rabbit')\n",
    "print(animals.index(\"cat\"))"
   ]
  },
  {
   "cell_type": "code",
   "execution_count": 63,
   "id": "1dc92386-0a7a-4cd5-a49e-c0993e3fefc2",
   "metadata": {},
   "outputs": [
    {
     "name": "stdout",
     "output_type": "stream",
     "text": [
      "False\n"
     ]
    }
   ],
   "source": [
    "#15 \n",
    "\n",
    "fruits = (\"apple\", \"banana\", \"orange\")\n",
    "print(\"kiwi\" in fruits)"
   ]
  },
  {
   "cell_type": "code",
   "execution_count": 65,
   "id": "5db5f616-7e06-4578-a291-d43108476590",
   "metadata": {},
   "outputs": [
    {
     "name": "stdout",
     "output_type": "stream",
     "text": [
      "{'c', 'a', 'b'}\n"
     ]
    }
   ],
   "source": [
    "#16\n",
    "my_set = {'a', 'b', 'c'}\n",
    "print(my_set)"
   ]
  },
  {
   "cell_type": "code",
   "execution_count": 69,
   "id": "dc594b48-f423-4c54-994b-b55767a455a4",
   "metadata": {},
   "outputs": [
    {
     "name": "stdout",
     "output_type": "stream",
     "text": [
      "set()\n"
     ]
    }
   ],
   "source": [
    "#17 \n",
    "\n",
    "numbers = {1, 2, 3, 4, 5}\n",
    "numbers.clear()\n",
    "print(numbers)"
   ]
  },
  {
   "cell_type": "code",
   "execution_count": 71,
   "id": "d9cdc74b-b4eb-474f-8f36-b3bbb0a53371",
   "metadata": {},
   "outputs": [
    {
     "name": "stdout",
     "output_type": "stream",
     "text": [
      "{1, 2, 3}\n"
     ]
    }
   ],
   "source": [
    "#18 \n",
    "\n",
    "numbers = {1, 2, 3, 4}\n",
    "numbers.remove(4)\n",
    "print(numbers)"
   ]
  },
  {
   "cell_type": "code",
   "execution_count": 73,
   "id": "f11318bb-96ed-4e4b-b627-f1732c0d4ec9",
   "metadata": {},
   "outputs": [
    {
     "name": "stdout",
     "output_type": "stream",
     "text": [
      "{1, 2, 3, 4, 5}\n"
     ]
    }
   ],
   "source": [
    "#19 \n",
    "\n",
    "set1 = {1, 2, 3}\n",
    "set2 = {3, 4, 5}\n",
    "union_set = set1.union(set2)\n",
    "print(union_set)"
   ]
  },
  {
   "cell_type": "code",
   "execution_count": 75,
   "id": "3852582f-38f9-433b-9e87-bb610d6830a5",
   "metadata": {},
   "outputs": [
    {
     "name": "stdout",
     "output_type": "stream",
     "text": [
      "{2, 3}\n"
     ]
    }
   ],
   "source": [
    "# 20\n",
    "\n",
    "set1 = {1, 2, 3}\n",
    "set2 = {2, 3, 4}\n",
    "intersection_set = set1.intersection(set2)\n",
    "print(intersection_set)"
   ]
  },
  {
   "cell_type": "code",
   "execution_count": null,
   "id": "8025ffcb-9c75-41d4-8a24-341fc943a9e5",
   "metadata": {},
   "outputs": [],
   "source": [
    "'''\n",
    "21. Write a code to create a dictionary with the keys \"name\", \"age\", and \"city\", and print it.\n",
    "\n",
    "22. Write a code to add a new key-value pair \"country\": \"USA\" to the dictionary {'name': 'John', 'age': 25}.\n",
    "\n",
    "23. Write a code to access the value associated with the key \"name\" in the dictionary {'name': 'Alice', 'age': 30}.\n",
    "\n",
    "24. Write a code to remove the key \"age\" from the dictionary {'name': 'Bob', 'age': 22, 'city': 'New York'}.\n",
    "\n",
    "25. Write a code to check if the key \"city\" exists in the dictionary {'name': 'Alice', 'city': 'Paris'}.\n",
    "\n",
    "26. Write a code to create a list, a tuple, and a dictionary, and print them all.\n",
    "\n",
    "27. Write a code to create a list of 5 random numbers between 1 and 100, sort it in ascending order, and print the\n",
    "result.(replaced)\n",
    "\n",
    "28. Write a code to create a list with strings and print the element at the third index.\n",
    "\n",
    "29. Write a code to combine two dictionaries into one and print the result.\n",
    "\n",
    "30. Write a code to convert a list of strings into a set.\n",
    "\n",
    "'''"
   ]
  },
  {
   "cell_type": "code",
   "execution_count": 79,
   "id": "fe1f0464-3382-4fde-81f2-2c1f9db5c6c8",
   "metadata": {},
   "outputs": [
    {
     "name": "stdout",
     "output_type": "stream",
     "text": [
      "{'name': 'Alice', 'age': 30, 'city': 'Paris'}\n"
     ]
    }
   ],
   "source": [
    "#21 \n",
    "person = {\"name\": \"Alice\", \"age\": 30, \"city\": \"Paris\"}\n",
    "print(person)"
   ]
  },
  {
   "cell_type": "code",
   "execution_count": 81,
   "id": "79758b19-92d8-4a3d-afb1-488598aabc46",
   "metadata": {},
   "outputs": [
    {
     "name": "stdout",
     "output_type": "stream",
     "text": [
      "{'name': 'John', 'age': 25, 'country': 'USA'}\n"
     ]
    }
   ],
   "source": [
    "#22 \n",
    "person = {'name': 'John', 'age': 25}\n",
    "person['country'] = 'USA'\n",
    "print(person)"
   ]
  },
  {
   "cell_type": "code",
   "execution_count": 83,
   "id": "ff0e60ea-2636-42dd-b908-b97333a01fa4",
   "metadata": {},
   "outputs": [
    {
     "name": "stdout",
     "output_type": "stream",
     "text": [
      "Alice\n"
     ]
    }
   ],
   "source": [
    "#23 \n",
    "person = {'name': 'Alice', 'age': 30}\n",
    "print(person['name'])"
   ]
  },
  {
   "cell_type": "code",
   "execution_count": 85,
   "id": "15e1eb89-811b-4f32-9419-b0abf0bd3708",
   "metadata": {},
   "outputs": [
    {
     "name": "stdout",
     "output_type": "stream",
     "text": [
      "{'name': 'Bob', 'city': 'New York'}\n"
     ]
    }
   ],
   "source": [
    "#24 \n",
    "\n",
    "person = {'name': 'Bob', 'age': 22, 'city': 'New York'}\n",
    "person.pop('age')\n",
    "print(person)"
   ]
  },
  {
   "cell_type": "code",
   "execution_count": 87,
   "id": "0b5a4f09-4e32-492e-8500-b4ffc7109992",
   "metadata": {},
   "outputs": [
    {
     "name": "stdout",
     "output_type": "stream",
     "text": [
      "True\n"
     ]
    }
   ],
   "source": [
    "#25 \n",
    "\n",
    "person = {'name': 'Alice', 'city': 'Paris'}\n",
    "print(\"city\" in person)"
   ]
  },
  {
   "cell_type": "code",
   "execution_count": 89,
   "id": "5b020f26-1b0e-425d-89a9-3f05ad07273d",
   "metadata": {},
   "outputs": [
    {
     "name": "stdout",
     "output_type": "stream",
     "text": [
      "[1, 2, 3]\n",
      "(4, 5, 6)\n",
      "{'a': 1, 'b': 2}\n"
     ]
    }
   ],
   "source": [
    "# 26 \n",
    "\n",
    "my_list = [1, 2, 3]\n",
    "my_tuple = (4, 5, 6)\n",
    "my_dict = {\"a\": 1, \"b\": 2}\n",
    "print(my_list)\n",
    "print(my_tuple)\n",
    "print(my_dict)"
   ]
  },
  {
   "cell_type": "code",
   "execution_count": 102,
   "id": "a3b45190-e899-45e2-a0bd-abb083e0228e",
   "metadata": {},
   "outputs": [
    {
     "name": "stdout",
     "output_type": "stream",
     "text": [
      "[12, 14, 31, 40, 41]\n"
     ]
    }
   ],
   "source": [
    "#27 \n",
    "\n",
    "import random\n",
    "numbers = random.sample(range(1, 101), 5)\n",
    "numbers.sort()\n",
    "print(numbers)"
   ]
  },
  {
   "cell_type": "code",
   "execution_count": 104,
   "id": "f64a1e53-7ec1-4d13-8d20-84ff9af7d059",
   "metadata": {},
   "outputs": [
    {
     "name": "stdout",
     "output_type": "stream",
     "text": [
      "date\n"
     ]
    }
   ],
   "source": [
    "#28 \n",
    "\n",
    "words = [\"apple\", \"banana\", \"cherry\", \"date\", \"elderberry\"]\n",
    "print(words[3])"
   ]
  },
  {
   "cell_type": "code",
   "execution_count": 114,
   "id": "ca2fbc0b-1663-49d0-9c2f-1597eeb9a63c",
   "metadata": {},
   "outputs": [
    {
     "name": "stdout",
     "output_type": "stream",
     "text": [
      "{'a': 1, 'b': 2, 'c': 3, 'd': 4}\n"
     ]
    }
   ],
   "source": [
    "#29 \n",
    "dict1 = {\"a\": 1, \"b\": 2}\n",
    "dict2 = {\"c\": 3, \"d\": 4}\n",
    "combined = {**dict1, **dict2}\n",
    "print(combined)"
   ]
  },
  {
   "cell_type": "code",
   "execution_count": 116,
   "id": "b3f6fa12-368d-4fdf-bdcc-6c8f33785427",
   "metadata": {},
   "outputs": [
    {
     "name": "stdout",
     "output_type": "stream",
     "text": [
      "{'apple', 'cherry', 'banana'}\n"
     ]
    }
   ],
   "source": [
    "#30 \n",
    "words = [\"apple\", \"banana\", \"cherry\", \"apple\"]\n",
    "unique_words = set(words)\n",
    "print(unique_words)"
   ]
  },
  {
   "cell_type": "code",
   "execution_count": null,
   "id": "ceafc417-c4c2-4074-89db-5cfc96f1051a",
   "metadata": {},
   "outputs": [],
   "source": []
  }
 ],
 "metadata": {
  "kernelspec": {
   "display_name": "Python [conda env:base] *",
   "language": "python",
   "name": "conda-base-py"
  },
  "language_info": {
   "codemirror_mode": {
    "name": "ipython",
    "version": 3
   },
   "file_extension": ".py",
   "mimetype": "text/x-python",
   "name": "python",
   "nbconvert_exporter": "python",
   "pygments_lexer": "ipython3",
   "version": "3.12.7"
  }
 },
 "nbformat": 4,
 "nbformat_minor": 5
}
